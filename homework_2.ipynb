{
 "cells": [
  {
   "cell_type": "code",
   "execution_count": 2,
   "id": "ca10e584-324c-4017-a68d-1998215fbe6c",
   "metadata": {},
   "outputs": [],
   "source": [
    "import pandas as pd\n",
    "import numpy as np"
   ]
  },
  {
   "cell_type": "code",
   "execution_count": 4,
   "id": "59b404c6-57b3-49ca-9123-522208368797",
   "metadata": {},
   "outputs": [],
   "source": [
    "data = \"https://raw.githubusercontent.com/alexeygrigorev/datasets/master/car_fuel_efficiency.csv\""
   ]
  },
  {
   "cell_type": "code",
   "execution_count": 5,
   "id": "f439b936-2275-4fd3-83e5-85ecd1a6215d",
   "metadata": {},
   "outputs": [
    {
     "name": "stdout",
     "output_type": "stream",
     "text": [
      "--2025-10-08 10:43:20--  https://raw.githubusercontent.com/alexeygrigorev/datasets/master/car_fuel_efficiency.csv\n",
      "Resolving raw.githubusercontent.com (raw.githubusercontent.com)... 185.199.110.133, 185.199.111.133, 185.199.108.133, ...\n",
      "Connecting to raw.githubusercontent.com (raw.githubusercontent.com)|185.199.110.133|:443... connected.\n",
      "HTTP request sent, awaiting response... 200 OK\n",
      "Length: 874188 (854K) [text/plain]\n",
      "Saving to: ‘car_fuel_efficiency.csv’\n",
      "\n",
      "car_fuel_efficiency 100%[===================>] 853.70K  --.-KB/s    in 0.02s   \n",
      "\n",
      "2025-10-08 10:43:20 (48.7 MB/s) - ‘car_fuel_efficiency.csv’ saved [874188/874188]\n",
      "\n"
     ]
    }
   ],
   "source": [
    "!wget $data "
   ]
  },
  {
   "cell_type": "code",
   "execution_count": 14,
   "id": "bd1669ac-8669-403f-96cb-8b1e80a906ad",
   "metadata": {
    "scrolled": true
   },
   "outputs": [
    {
     "data": {
      "text/html": [
       "<div>\n",
       "<style scoped>\n",
       "    .dataframe tbody tr th:only-of-type {\n",
       "        vertical-align: middle;\n",
       "    }\n",
       "\n",
       "    .dataframe tbody tr th {\n",
       "        vertical-align: top;\n",
       "    }\n",
       "\n",
       "    .dataframe thead th {\n",
       "        text-align: right;\n",
       "    }\n",
       "</style>\n",
       "<table border=\"1\" class=\"dataframe\">\n",
       "  <thead>\n",
       "    <tr style=\"text-align: right;\">\n",
       "      <th></th>\n",
       "      <th>engine_displacement</th>\n",
       "      <th>num_cylinders</th>\n",
       "      <th>horsepower</th>\n",
       "      <th>vehicle_weight</th>\n",
       "      <th>acceleration</th>\n",
       "      <th>model_year</th>\n",
       "      <th>origin</th>\n",
       "      <th>fuel_type</th>\n",
       "      <th>drivetrain</th>\n",
       "      <th>num_doors</th>\n",
       "      <th>fuel_efficiency_mpg</th>\n",
       "    </tr>\n",
       "  </thead>\n",
       "  <tbody>\n",
       "    <tr>\n",
       "      <th>0</th>\n",
       "      <td>170</td>\n",
       "      <td>3.0</td>\n",
       "      <td>159.0</td>\n",
       "      <td>3413.433759</td>\n",
       "      <td>17.7</td>\n",
       "      <td>2003</td>\n",
       "      <td>Europe</td>\n",
       "      <td>Gasoline</td>\n",
       "      <td>All-wheel drive</td>\n",
       "      <td>0.0</td>\n",
       "      <td>13.231729</td>\n",
       "    </tr>\n",
       "    <tr>\n",
       "      <th>1</th>\n",
       "      <td>130</td>\n",
       "      <td>5.0</td>\n",
       "      <td>97.0</td>\n",
       "      <td>3149.664934</td>\n",
       "      <td>17.8</td>\n",
       "      <td>2007</td>\n",
       "      <td>USA</td>\n",
       "      <td>Gasoline</td>\n",
       "      <td>Front-wheel drive</td>\n",
       "      <td>0.0</td>\n",
       "      <td>13.688217</td>\n",
       "    </tr>\n",
       "    <tr>\n",
       "      <th>2</th>\n",
       "      <td>170</td>\n",
       "      <td>NaN</td>\n",
       "      <td>78.0</td>\n",
       "      <td>3079.038997</td>\n",
       "      <td>15.1</td>\n",
       "      <td>2018</td>\n",
       "      <td>Europe</td>\n",
       "      <td>Gasoline</td>\n",
       "      <td>Front-wheel drive</td>\n",
       "      <td>0.0</td>\n",
       "      <td>14.246341</td>\n",
       "    </tr>\n",
       "    <tr>\n",
       "      <th>3</th>\n",
       "      <td>220</td>\n",
       "      <td>4.0</td>\n",
       "      <td>NaN</td>\n",
       "      <td>2542.392402</td>\n",
       "      <td>20.2</td>\n",
       "      <td>2009</td>\n",
       "      <td>USA</td>\n",
       "      <td>Diesel</td>\n",
       "      <td>All-wheel drive</td>\n",
       "      <td>2.0</td>\n",
       "      <td>16.912736</td>\n",
       "    </tr>\n",
       "    <tr>\n",
       "      <th>4</th>\n",
       "      <td>210</td>\n",
       "      <td>1.0</td>\n",
       "      <td>140.0</td>\n",
       "      <td>3460.870990</td>\n",
       "      <td>14.4</td>\n",
       "      <td>2009</td>\n",
       "      <td>Europe</td>\n",
       "      <td>Gasoline</td>\n",
       "      <td>All-wheel drive</td>\n",
       "      <td>2.0</td>\n",
       "      <td>12.488369</td>\n",
       "    </tr>\n",
       "    <tr>\n",
       "      <th>5</th>\n",
       "      <td>190</td>\n",
       "      <td>3.0</td>\n",
       "      <td>NaN</td>\n",
       "      <td>2484.883986</td>\n",
       "      <td>14.7</td>\n",
       "      <td>2008</td>\n",
       "      <td>Europe</td>\n",
       "      <td>Gasoline</td>\n",
       "      <td>All-wheel drive</td>\n",
       "      <td>-1.0</td>\n",
       "      <td>17.271818</td>\n",
       "    </tr>\n",
       "    <tr>\n",
       "      <th>6</th>\n",
       "      <td>240</td>\n",
       "      <td>7.0</td>\n",
       "      <td>127.0</td>\n",
       "      <td>3006.542287</td>\n",
       "      <td>22.2</td>\n",
       "      <td>2012</td>\n",
       "      <td>USA</td>\n",
       "      <td>Gasoline</td>\n",
       "      <td>Front-wheel drive</td>\n",
       "      <td>1.0</td>\n",
       "      <td>13.210412</td>\n",
       "    </tr>\n",
       "    <tr>\n",
       "      <th>7</th>\n",
       "      <td>150</td>\n",
       "      <td>4.0</td>\n",
       "      <td>239.0</td>\n",
       "      <td>3638.657780</td>\n",
       "      <td>17.3</td>\n",
       "      <td>2020</td>\n",
       "      <td>USA</td>\n",
       "      <td>Diesel</td>\n",
       "      <td>All-wheel drive</td>\n",
       "      <td>1.0</td>\n",
       "      <td>12.848884</td>\n",
       "    </tr>\n",
       "    <tr>\n",
       "      <th>8</th>\n",
       "      <td>250</td>\n",
       "      <td>1.0</td>\n",
       "      <td>174.0</td>\n",
       "      <td>2714.219310</td>\n",
       "      <td>10.3</td>\n",
       "      <td>2016</td>\n",
       "      <td>Asia</td>\n",
       "      <td>Diesel</td>\n",
       "      <td>Front-wheel drive</td>\n",
       "      <td>-1.0</td>\n",
       "      <td>16.823554</td>\n",
       "    </tr>\n",
       "    <tr>\n",
       "      <th>9</th>\n",
       "      <td>150</td>\n",
       "      <td>4.0</td>\n",
       "      <td>123.0</td>\n",
       "      <td>3509.036569</td>\n",
       "      <td>10.2</td>\n",
       "      <td>2005</td>\n",
       "      <td>USA</td>\n",
       "      <td>Gasoline</td>\n",
       "      <td>Front-wheel drive</td>\n",
       "      <td>-1.0</td>\n",
       "      <td>12.298355</td>\n",
       "    </tr>\n",
       "  </tbody>\n",
       "</table>\n",
       "</div>"
      ],
      "text/plain": [
       "   engine_displacement  num_cylinders  horsepower  vehicle_weight  \\\n",
       "0                  170            3.0       159.0     3413.433759   \n",
       "1                  130            5.0        97.0     3149.664934   \n",
       "2                  170            NaN        78.0     3079.038997   \n",
       "3                  220            4.0         NaN     2542.392402   \n",
       "4                  210            1.0       140.0     3460.870990   \n",
       "5                  190            3.0         NaN     2484.883986   \n",
       "6                  240            7.0       127.0     3006.542287   \n",
       "7                  150            4.0       239.0     3638.657780   \n",
       "8                  250            1.0       174.0     2714.219310   \n",
       "9                  150            4.0       123.0     3509.036569   \n",
       "\n",
       "   acceleration  model_year  origin fuel_type         drivetrain  num_doors  \\\n",
       "0          17.7        2003  Europe  Gasoline    All-wheel drive        0.0   \n",
       "1          17.8        2007     USA  Gasoline  Front-wheel drive        0.0   \n",
       "2          15.1        2018  Europe  Gasoline  Front-wheel drive        0.0   \n",
       "3          20.2        2009     USA    Diesel    All-wheel drive        2.0   \n",
       "4          14.4        2009  Europe  Gasoline    All-wheel drive        2.0   \n",
       "5          14.7        2008  Europe  Gasoline    All-wheel drive       -1.0   \n",
       "6          22.2        2012     USA  Gasoline  Front-wheel drive        1.0   \n",
       "7          17.3        2020     USA    Diesel    All-wheel drive        1.0   \n",
       "8          10.3        2016    Asia    Diesel  Front-wheel drive       -1.0   \n",
       "9          10.2        2005     USA  Gasoline  Front-wheel drive       -1.0   \n",
       "\n",
       "   fuel_efficiency_mpg  \n",
       "0            13.231729  \n",
       "1            13.688217  \n",
       "2            14.246341  \n",
       "3            16.912736  \n",
       "4            12.488369  \n",
       "5            17.271818  \n",
       "6            13.210412  \n",
       "7            12.848884  \n",
       "8            16.823554  \n",
       "9            12.298355  "
      ]
     },
     "execution_count": 14,
     "metadata": {},
     "output_type": "execute_result"
    }
   ],
   "source": [
    "df = pd.read_csv('car_fuel_efficiency.csv')\n",
    "df.head(10)"
   ]
  },
  {
   "cell_type": "markdown",
   "id": "c4fff0f7-0082-409b-b1dd-9413c3f14a9a",
   "metadata": {},
   "source": [
    "# Preparing the dataset"
   ]
  },
  {
   "cell_type": "code",
   "execution_count": 12,
   "id": "7fde2abb-a59c-4931-bb28-00a4236cbc33",
   "metadata": {},
   "outputs": [
    {
     "data": {
      "text/plain": [
       "['engine_displacement',\n",
       " 'horsepower',\n",
       " 'vehicle_weight',\n",
       " 'model_year',\n",
       " 'fuel_efficiency_mpg']"
      ]
     },
     "execution_count": 12,
     "metadata": {},
     "output_type": "execute_result"
    }
   ],
   "source": [
    "#Select a few columns\n",
    "selected_columns = ['engine_displacement' , 'horsepower','vehicle_weight', 'model_year', 'fuel_efficiency_mpg']\n",
    "selected_columns"
   ]
  },
  {
   "cell_type": "code",
   "execution_count": 13,
   "id": "3fc48f12-3964-4815-9890-3f18c18e8831",
   "metadata": {},
   "outputs": [
    {
     "name": "stdout",
     "output_type": "stream",
     "text": [
      "   engine_displacement  horsepower  vehicle_weight  model_year  \\\n",
      "0                  170       159.0     3413.433759        2003   \n",
      "1                  130        97.0     3149.664934        2007   \n",
      "2                  170        78.0     3079.038997        2018   \n",
      "3                  220         NaN     2542.392402        2009   \n",
      "4                  210       140.0     3460.870990        2009   \n",
      "\n",
      "   fuel_efficiency_mpg  \n",
      "0            13.231729  \n",
      "1            13.688217  \n",
      "2            14.246341  \n",
      "3            16.912736  \n",
      "4            12.488369  \n"
     ]
    }
   ],
   "source": [
    "df_selected = df[selected_columns]\n",
    "\n",
    "# Display the first few rows to confirm\n",
    "print(df_selected.head())"
   ]
  },
  {
   "cell_type": "code",
   "execution_count": 15,
   "id": "c8f70926-fe6e-40cc-b768-55c91261ba02",
   "metadata": {},
   "outputs": [
    {
     "data": {
      "image/png": "[encoded data removed]",
      "text/plain": [
       "<Figure size 800x500 with 1 Axes>"
      ]
     },
     "metadata": {},
     "output_type": "display_data"
    }
   ],
   "source": [
    "import matplotlib.pyplot as plt\n",
    "import seaborn as sns\n",
    "\n",
    "# Plot histogram and density\n",
    "plt.figure(figsize=(8,5))\n",
    "sns.histplot(df_selected['fuel_efficiency_mpg'], bins=30, kde=True)\n",
    "plt.title('Distribution of Fuel Efficiency (MPG)')\n",
    "plt.xlabel('Fuel Efficiency (mpg)')\n",
    "plt.ylabel('Frequency')\n",
    "plt.show()"
   ]
  },
  {
   "cell_type": "code",
   "execution_count": 16,
   "id": "2b33b891-7a97-4ae3-9940-25637ff038bd",
   "metadata": {},
   "outputs": [
    {
     "name": "stdout",
     "output_type": "stream",
     "text": [
      "Skewness: -0.01\n"
     ]
    }
   ],
   "source": [
    "skewness = df_selected['fuel_efficiency_mpg'].skew()\n",
    "print(f\"Skewness: {skewness:.2f}\")"
   ]
  },
  {
   "cell_type": "code",
   "execution_count": 17,
   "id": "4ee71b29-bf2c-481f-8f6e-a474c843f694",
   "metadata": {},
   "outputs": [
    {
     "data": {
      "text/plain": [
       "engine_displacement      0\n",
       "horsepower             708\n",
       "vehicle_weight           0\n",
       "model_year               0\n",
       "fuel_efficiency_mpg      0\n",
       "dtype: int64"
      ]
     },
     "execution_count": 17,
     "metadata": {},
     "output_type": "execute_result"
    }
   ],
   "source": [
    "#missing Value\n",
    "\n",
    "df_selected.isnull().sum()"
   ]
  },
  {
   "cell_type": "code",
   "execution_count": 18,
   "id": "8fb95f95-9b17-45f9-b074-01184994a204",
   "metadata": {},
   "outputs": [
    {
     "name": "stdout",
     "output_type": "stream",
     "text": [
      "Median horsepower: 149.0\n"
     ]
    }
   ],
   "source": [
    "# Calculate the median (50th percentile) of horsepower\n",
    "median_horsepower = df_selected['horsepower'].median()\n",
    "print(f\"Median horsepower: {median_horsepower}\")\n"
   ]
  },
  {
   "cell_type": "markdown",
   "id": "e1a51a9b-8ba9-426f-9ac3-4428244f3cec",
   "metadata": {},
   "source": [
    "# Prepare and split the dataset"
   ]
  },
  {
   "cell_type": "code",
   "execution_count": 20,
   "id": "ccae8bc3-cc13-4636-b62b-a9d141a82b2d",
   "metadata": {},
   "outputs": [
    {
     "name": "stdout",
     "output_type": "stream",
     "text": [
      "Train set: 5824 rows\n",
      "Validation set: 1940 rows\n",
      "Test set: 1940 rows\n"
     ]
    }
   ],
   "source": [
    "import numpy as np\n",
    "\n",
    "# random seed for reproducibility\n",
    "np.random.seed(42)\n",
    "\n",
    "# Number of rows in the dataset\n",
    "n = len(df_selected)\n",
    "\n",
    "# Compute split sizes\n",
    "n_val = int(0.2 * n)\n",
    "n_test = int(0.2 * n)\n",
    "n_train = n - (n_val + n_test)\n",
    "\n",
    "# Shuffle the indices\n",
    "idx = np.arange(n)\n",
    "np.random.shuffle(idx)\n",
    "\n",
    "# Shuffle the dataframe\n",
    "df_shuffled = df_selected.iloc[idx]\n",
    "\n",
    "# Split into train, validation, and test sets\n",
    "df_train = df_shuffled.iloc[:n_train].copy()\n",
    "df_val = df_shuffled.iloc[n_train:n_train + n_val].copy()\n",
    "df_test = df_shuffled.iloc[n_train + n_val:].copy()\n",
    "\n",
    "# Define the target variable\n",
    "y_train = df_train.fuel_efficiency_mpg.values\n",
    "y_val = df_val.fuel_efficiency_mpg.values\n",
    "y_test = df_test.fuel_efficiency_mpg.values\n",
    "\n",
    "# Remove target from feature sets\n",
    "del df_train['fuel_efficiency_mpg']\n",
    "del df_val['fuel_efficiency_mpg']\n",
    "del df_test['fuel_efficiency_mpg']\n",
    "\n",
    "# Display shape summary\n",
    "print(f\"Train set: {len(df_train)} rows\")\n",
    "print(f\"Validation set: {len(df_val)} rows\")\n",
    "print(f\"Test set: {len(df_test)} rows\")\n"
   ]
  },
  {
   "cell_type": "code",
   "execution_count": 21,
   "id": "f5e5079e-237c-4c6a-8bff-8258e845f8c2",
   "metadata": {},
   "outputs": [],
   "source": [
    "# Linear Regression Functions\n",
    "def train_linear_regression(X, y):\n",
    "    ones = np.ones(X.shape[0])\n",
    "    X = np.column_stack([ones, X])\n",
    "    \n",
    "    XTX = X.T.dot(X)\n",
    "    XTX_inv = np.linalg.inv(XTX)\n",
    "    w = XTX_inv.dot(X.T).dot(y)\n",
    "    \n",
    "    return w[0], w[1:]\n",
    "\n",
    "def rmse(y, y_pred):\n",
    "    error = y_pred - y\n",
    "    mse = (error ** 2).mean()\n",
    "    return np.sqrt(mse)"
   ]
  },
  {
   "cell_type": "code",
   "execution_count": 22,
   "id": "8ab477e3-51b8-4d4b-8623-a66ea7a84854",
   "metadata": {},
   "outputs": [],
   "source": [
    "# Feature Preparation \n",
    "\n",
    "base = ['engine_displacement', 'horsepower', 'vehicle_weight', 'model_year']\n",
    "\n",
    "def prepare_X(df, fill_mean=None):\n",
    "    df_num = df[base].copy()\n",
    "    \n",
    "    # Fill missing horsepower values\n",
    "    if fill_mean is None:\n",
    "        # Option 1: Fill with 0\n",
    "        df_num = df_num.fillna(0)\n",
    "    else:\n",
    "        # Option 2: Fill with mean (computed from training)\n",
    "        df_num = df_num.fillna({'horsepower': fill_mean})\n",
    "    \n",
    "    X = df_num.values\n",
    "    return X"
   ]
  },
  {
   "cell_type": "code",
   "execution_count": 23,
   "id": "e68a95fe-1ca7-427e-aa5c-842c07d3ecc9",
   "metadata": {},
   "outputs": [
    {
     "name": "stdout",
     "output_type": "stream",
     "text": [
      "RMSE (fill with 0): 0.52\n"
     ]
    }
   ],
   "source": [
    "# Option 1: Fill with 0 \n",
    "\n",
    "X_train_0 = prepare_X(df_train, fill_mean=None)\n",
    "w0_0, w_0 = train_linear_regression(X_train_0, y_train)\n",
    "\n",
    "X_val_0 = prepare_X(df_val, fill_mean=None)\n",
    "y_pred_0 = w0_0 + X_val_0.dot(w_0)\n",
    "\n",
    "rmse_0 = rmse(y_val, y_pred_0)\n",
    "print(\"RMSE (fill with 0):\", round(rmse_0, 2))"
   ]
  },
  {
   "cell_type": "code",
   "execution_count": 24,
   "id": "9198fcf2-906e-4daf-bc9f-49fab54f609f",
   "metadata": {},
   "outputs": [
    {
     "name": "stdout",
     "output_type": "stream",
     "text": [
      "RMSE (fill with mean): 0.46\n"
     ]
    }
   ],
   "source": [
    "\n",
    "# Option 2: Fill with mean (from train only)\n",
    "\n",
    "horsepower_mean = df_train['horsepower'].mean()\n",
    "\n",
    "X_train_mean = prepare_X(df_train, fill_mean=horsepower_mean)\n",
    "w0_mean, w_mean = train_linear_regression(X_train_mean, y_train)\n",
    "\n",
    "X_val_mean = prepare_X(df_val, fill_mean=horsepower_mean)\n",
    "y_pred_mean = w0_mean + X_val_mean.dot(w_mean)\n",
    "\n",
    "rmse_mean = rmse(y_val, y_pred_mean)\n",
    "print(\"RMSE (fill with mean):\", round(rmse_mean, 2))"
   ]
  },
  {
   "cell_type": "code",
   "execution_count": 25,
   "id": "d0753b90-3b35-470a-9fe0-5c5c7d8beb8d",
   "metadata": {},
   "outputs": [
    {
     "name": "stdout",
     "output_type": "stream",
     "text": [
      "\n",
      "✅ Filling with mean gives better RMSE (0.46) vs (0.52)\n"
     ]
    }
   ],
   "source": [
    "# Compare Results \n",
    "\n",
    "if rmse_mean < rmse_0:\n",
    "    print(f\"\\n✅ Filling with mean gives better RMSE ({round(rmse_mean, 2)}) vs ({round(rmse_0, 2)})\")\n",
    "else:\n",
    "    print(f\"\\n✅ Filling with 0 gives better RMSE ({round(rmse_0, 2)}) vs ({round(rmse_mean, 2)})\")"
   ]
  },
  {
   "cell_type": "code",
   "execution_count": 30,
   "id": "f4adbdb9-4c71-4041-9f20-47df47bcab05",
   "metadata": {},
   "outputs": [
    {
     "data": {
      "text/plain": [
       "{0: np.float64(0.52),\n",
       " 0.01: np.float64(0.52),\n",
       " 0.1: np.float64(0.52),\n",
       " 1: np.float64(0.52),\n",
       " 5: np.float64(0.52),\n",
       " 10: np.float64(0.52),\n",
       " 100: np.float64(0.52)}"
      ]
     },
     "execution_count": 30,
     "metadata": {},
     "output_type": "execute_result"
    }
   ],
   "source": [
    "\n",
    "# Function to train regularized linear regression (ridge)\n",
    "def train_linear_regression_reg(X, y, r=0.0):\n",
    "    ones = np.ones(X.shape[0])\n",
    "    X = np.column_stack([ones, X])\n",
    "    \n",
    "    XTX = X.T.dot(X)\n",
    "    XTX = XTX + r * np.eye(XTX.shape[0])  # add regularization term\n",
    "    XTX_inv = np.linalg.inv(XTX)\n",
    "    w = XTX_inv.dot(X.T).dot(y)\n",
    "    \n",
    "    return w[0], w[1:]\n",
    "\n",
    "# Prepare X function (fill NAs with 0)\n",
    "base = ['engine_displacement', 'horsepower', 'vehicle_weight', 'model_year']\n",
    "\n",
    "def prepare_X(df):\n",
    "    df_num = df[base]\n",
    "    df_num = df_num.fillna(0)\n",
    "    X = df_num.values\n",
    "    return X\n",
    "\n",
    "# RMSE calculation\n",
    "def rmse(y, y_pred):\n",
    "    error = y_pred - y\n",
    "    mse = (error ** 2).mean()\n",
    "    return np.sqrt(mse)\n",
    "\n",
    "# Prepare training and validation datasets\n",
    "X_train = prepare_X(df_train)\n",
    "X_val = prepare_X(df_val)\n",
    "\n",
    "# Try different regularization values\n",
    "r_values = [0, 0.01, 0.1, 1, 5, 10, 100]\n",
    "results = {}\n",
    "\n",
    "for r in r_values:\n",
    "    w_0, w = train_linear_regression_reg(X_train, y_train, r=r)\n",
    "    y_pred = w_0 + X_val.dot(w)\n",
    "    score = rmse(y_val, y_pred)\n",
    "    results[r] = round(score, 2)\n",
    "\n",
    "results\n",
    "\n",
    "\n"
   ]
  },
  {
   "cell_type": "code",
   "execution_count": 31,
   "id": "f53f6121-c7df-4169-b40a-eae34080bcaa",
   "metadata": {},
   "outputs": [
    {
     "name": "stdout",
     "output_type": "stream",
     "text": [
      "\n",
      "Best r: 0 with RMSE = 0.52\n"
     ]
    }
   ],
   "source": [
    "# best r\n",
    "best_r = min(results, key=results.get)\n",
    "print(f\"\\nBest r: {best_r} with RMSE = {results[best_r]}\")\n"
   ]
  },
  {
   "cell_type": "code",
   "execution_count": 32,
   "id": "36f75d2b-8ad8-46cb-a864-78c7b000c08b",
   "metadata": {},
   "outputs": [
    {
     "name": "stdout",
     "output_type": "stream",
     "text": [
      "seed = 0 -> RMSE (val) = 0.521\n",
      "seed = 1 -> RMSE (val) = 0.521\n",
      "seed = 2 -> RMSE (val) = 0.523\n",
      "seed = 3 -> RMSE (val) = 0.516\n",
      "seed = 4 -> RMSE (val) = 0.511\n",
      "seed = 5 -> RMSE (val) = 0.528\n",
      "seed = 6 -> RMSE (val) = 0.531\n",
      "seed = 7 -> RMSE (val) = 0.509\n",
      "seed = 8 -> RMSE (val) = 0.515\n",
      "seed = 9 -> RMSE (val) = 0.513\n",
      "\n",
      "RMSE scores (unrounded): [np.float64(0.5206531296292951), np.float64(0.5213388912860217), np.float64(0.5228069974785726), np.float64(0.5159516741108942), np.float64(0.5109129460108117), np.float64(0.5283406460133415), np.float64(0.5313910658151165), np.float64(0.5090670387365963), np.float64(0.5147399129426932), np.float64(0.5131865908408015)]\n",
      "Std of RMSE scores: 0.007\n"
     ]
    }
   ],
   "source": [
    "\n",
    "def train_linear_regression(X, y):\n",
    "    ones = np.ones(X.shape[0])\n",
    "    X_full = np.column_stack([ones, X])\n",
    "    XTX = X_full.T.dot(X_full)\n",
    "    XTX_inv = np.linalg.inv(XTX)\n",
    "    w = XTX_inv.dot(X_full.T).dot(y)\n",
    "    return w[0], w[1:]\n",
    "\n",
    "def rmse(y, y_pred):\n",
    "    return np.sqrt(((y_pred - y) ** 2).mean())\n",
    "\n",
    "# features to use\n",
    "base = ['engine_displacement', 'horsepower', 'vehicle_weight', 'model_year']\n",
    "\n",
    "# seeds to try\n",
    "seeds = list(range(10))  # [0,1,...,9]\n",
    "\n",
    "rmse_scores = []\n",
    "\n",
    "n_total = len(df_selected)\n",
    "\n",
    "for seed in seeds:\n",
    "    # set seed for reproducibility of shuffle\n",
    "    np.random.seed(seed)\n",
    "    \n",
    "    # compute split sizes\n",
    "    n = n_total\n",
    "    n_val = int(0.2 * n)\n",
    "    n_test = int(0.2 * n)\n",
    "    n_train = n - (n_val + n_test)\n",
    "    \n",
    "    # shuffle indices and split\n",
    "    idx = np.arange(n)\n",
    "    np.random.shuffle(idx)\n",
    "    df_shuffled = df_selected.iloc[idx].reset_index(drop=True)\n",
    "    \n",
    "    df_train = df_shuffled.iloc[:n_train].copy()\n",
    "    df_val   = df_shuffled.iloc[n_train:n_train + n_val].copy()\n",
    "    df_test  = df_shuffled.iloc[n_train + n_val:].copy()\n",
    "    \n",
    "    # fill missing values with 0 (as requested)\n",
    "    df_train.fillna(0, inplace=True)\n",
    "    df_val.fillna(0, inplace=True)\n",
    "    df_test.fillna(0, inplace=True)\n",
    "    \n",
    "    # prepare X matrices and targets\n",
    "    X_train = df_train[base].values\n",
    "    X_val   = df_val[base].values\n",
    "    \n",
    "    y_train = df_train['fuel_efficiency_mpg'].values\n",
    "    y_val   = df_val['fuel_efficiency_mpg'].values\n",
    "    \n",
    "    # train linear regression (no regularization)\n",
    "    w0, w = train_linear_regression(X_train, y_train)\n",
    "    \n",
    "    # predict on validation set and compute RMSE\n",
    "    y_pred_val = w0 + X_val.dot(w)\n",
    "    score = rmse(y_val, y_pred_val)\n",
    "    \n",
    "    rmse_scores.append(score)\n",
    "    print(f\"seed = {seed} -> RMSE (val) = {round(score, 3)}\")\n",
    "\n",
    "# compute std of the RMSE scores\n",
    "std_scores = np.std(rmse_scores)\n",
    "print(\"\\nRMSE scores (unrounded):\", rmse_scores)\n",
    "print(\"Std of RMSE scores:\", round(std_scores, 3))\n"
   ]
  },
  {
   "cell_type": "code",
   "execution_count": 34,
   "id": "f4b6e1c0-44a2-4ec4-8447-b0347a99eb84",
   "metadata": {},
   "outputs": [],
   "source": [
    "#import matplotlib.pyplot as plt\n",
    "\n",
    "\n",
    "#seeds = list(range(10))\n",
    "#rmse_scores = [0.521, 0.521, 0.523, 0.516, 0.511, 0.528, 0.531, 0.509, 0.515, 0.513]\n",
    "\n",
    "#plt.figure(figsize=(8, 4))\n",
    "#plt.plot(seeds, rmse_scores, marker='o', linestyle='-', linewidth=1.5)\n",
    "#plt.title(\"RMSE vs Seed (Validation Set)\", fontsize=14)\n",
    "#plt.xlabel(\"Random Seed\", fontsize=12)\n",
    "#plt.ylabel(\"RMSE\", fontsize=12)\n",
    "#plt.grid(True, linestyle='--', alpha=0.6)\n",
    "#plt.show()\n"
   ]
  },
  {
   "cell_type": "code",
   "execution_count": 35,
   "id": "ec92c29c-a909-43b1-8938-fd545d8c6efe",
   "metadata": {},
   "outputs": [
    {
     "name": "stdout",
     "output_type": "stream",
     "text": [
      "Test RMSE: 0.516\n"
     ]
    }
   ],
   "source": [
    "\n",
    "def train_linear_regression_reg(X, y, r=0.0):\n",
    "    ones = np.ones(X.shape[0])\n",
    "    X = np.column_stack([ones, X])\n",
    "    XTX = X.T.dot(X)\n",
    "    # Add regularization term\n",
    "    XTX = XTX + r * np.eye(XTX.shape[0])\n",
    "    XTX_inv = np.linalg.inv(XTX)\n",
    "    w = XTX_inv.dot(X.T).dot(y)\n",
    "    return w[0], w[1:]\n",
    "\n",
    "def rmse(y, y_pred):\n",
    "    return np.sqrt(((y_pred - y) ** 2).mean())\n",
    "\n",
    "# seed and split sizes \n",
    "np.random.seed(9)\n",
    "n = len(df_selected)\n",
    "n_val = int(0.2 * n)\n",
    "n_test = int(0.2 * n)\n",
    "n_train = n - (n_val + n_test)\n",
    "\n",
    "# shuffle and split\n",
    "idx = np.arange(n)\n",
    "np.random.shuffle(idx)\n",
    "df_shuffled = df_selected.iloc[idx].reset_index(drop=True)\n",
    "\n",
    "df_train = df_shuffled.iloc[:n_train].copy()\n",
    "df_val   = df_shuffled.iloc[n_train:n_train + n_val].copy()\n",
    "df_test  = df_shuffled.iloc[n_train + n_val:].copy()\n",
    "\n",
    "# combine train + val \n",
    "df_full_train = pd.concat([df_train, df_val]).reset_index(drop=True)\n",
    "\n",
    "# fill missing values with 0 \n",
    "df_full_train.fillna(0, inplace=True)\n",
    "df_test.fillna(0, inplace=True)\n",
    "\n",
    "# features and target\n",
    "base = ['engine_displacement', 'horsepower', 'vehicle_weight', 'model_year']\n",
    "\n",
    "X_full_train = df_full_train[base].values\n",
    "y_full_train = df_full_train['fuel_efficiency_mpg'].values\n",
    "\n",
    "X_test = df_test[base].values\n",
    "y_test = df_test['fuel_efficiency_mpg'].values\n",
    "\n",
    "# train with regularization (r = 0.001)\n",
    "w0, w = train_linear_regression_reg(X_full_train, y_full_train, r=0.001)\n",
    "\n",
    "# predict on test set and evaluate\n",
    "y_pred_test = w0 + X_test.dot(w)\n",
    "rmse_test = rmse(y_test, y_pred_test)\n",
    "\n",
    "print(\"Test RMSE:\", round(rmse_test, 3))\n"
   ]
  },
  {
   "cell_type": "code",
   "execution_count": null,
   "id": "1aa0e738-cc45-4a3c-bcd5-e90d56b0219b",
   "metadata": {},
   "outputs": [],
   "source": []
  }
 ],
 "metadata": {
  "kernelspec": {
   "display_name": "Python 3 (ipykernel)",
   "language": "python",
   "name": "python3"
  },
  "language_info": {
   "codemirror_mode": {
    "name": "ipython",
    "version": 3
   },
   "file_extension": ".py",
   "mimetype": "text/x-python",
   "name": "python",
   "nbconvert_exporter": "python",
   "pygments_lexer": "ipython3",
   "version": "3.12.1"
  }
 },
 "nbformat": 4,
 "nbformat_minor": 5
}
